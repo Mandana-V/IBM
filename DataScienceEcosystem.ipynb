{
 "cells": [
  {
   "cell_type": "markdown",
   "id": "2b2a91fe-50b1-46b3-ad7e-81fdea01619c",
   "metadata": {},
   "source": [
    "# Data Science Tools and Ecosystem"
   ]
  },
  {
   "cell_type": "markdown",
   "id": "2b8f7ec5-0ee2-48b8-b786-414de0dd456e",
   "metadata": {},
   "source": [
    "#In this notebook, Data Science Tools and Ecosystem are summarized."
   ]
  },
  {
   "cell_type": "markdown",
   "id": "20386aaf-2b6b-4cf9-827a-7218367a90bf",
   "metadata": {},
   "source": [
    "#Some of the popular languages that Data Scientists use are:\n",
    "1. python\n",
    "2. R\n",
    "3. JULIA\n",
    "4. SQL"
   ]
  },
  {
   "cell_type": "markdown",
   "id": "afc06f3a-e688-40fd-80f0-2e1d09ce5e48",
   "metadata": {},
   "source": [
    "#Some of the commonly used libraries used by Data Scientists include:\n",
    "1. MATPLOTLIB\n",
    "2. PANDAS\n",
    "3. PYTROCH\n",
    "4. NUMPY"
   ]
  },
  {
   "cell_type": "markdown",
   "id": "9df4d16f-f0b7-4428-ac0a-8dc3e1ad6dea",
   "metadata": {},
   "source": [
    "|Data Science Tools|\n",
    "|-------------------|\n",
    "|GOOGLE COLAB|\n",
    "|VISUAL STUDIO CODE|\n",
    "|JUPYTER NOTEBOOK|"
   ]
  },
  {
   "cell_type": "markdown",
   "id": "1666675e-bfab-4fa2-a9ac-35db50447538",
   "metadata": {},
   "source": [
    "### Below are a few examples of evaluating arithmetic expressions in Python"
   ]
  },
  {
   "cell_type": "code",
   "execution_count": 22,
   "id": "60f93d3d-15bd-49ed-a7cd-9c6802cc6b20",
   "metadata": {},
   "outputs": [
    {
     "data": {
      "text/plain": [
       "17"
      ]
     },
     "execution_count": 22,
     "metadata": {},
     "output_type": "execute_result"
    }
   ],
   "source": [
    "#This a simple arithmetic expression to mutiply then add integers\n",
    "(3*4)+5\n"
   ]
  },
  {
   "cell_type": "code",
   "execution_count": 26,
   "id": "0a619fdc-63c1-40ca-853d-d1cd4592fbe8",
   "metadata": {},
   "outputs": [
    {
     "data": {
      "text/plain": [
       "3.3333333333333335"
      ]
     },
     "execution_count": 26,
     "metadata": {},
     "output_type": "execute_result"
    }
   ],
   "source": [
    "#This will convert 200 minutes to hours by diving by 60\n",
    "200/60"
   ]
  },
  {
   "cell_type": "markdown",
   "id": "d1bdcb99-8797-474d-8b63-72833f773bce",
   "metadata": {},
   "source": [
    "**Objectives:**"
   ]
  },
  {
   "cell_type": "markdown",
   "id": "eb9228ca-d60b-4dc8-a9af-4295ac4ded01",
   "metadata": {},
   "source": [
    "* List popular languages for Data Science\n",
    "* Some of the commonly used libraries used by Data Scientists\n",
    "* a few examples of evaluating arithmetic expressions in Python"
   ]
  },
  {
   "cell_type": "markdown",
   "id": "243df423-a320-42aa-adc3-efb47b0882af",
   "metadata": {},
   "source": [
    "## Author\n",
    "Mandana"
   ]
  },
  {
   "cell_type": "code",
   "execution_count": null,
   "id": "1096ab18-6e55-4098-8f55-6ef544a5b3ba",
   "metadata": {},
   "outputs": [],
   "source": []
  }
 ],
 "metadata": {
  "kernelspec": {
   "display_name": "Python 3 (ipykernel)",
   "language": "python",
   "name": "python3"
  },
  "language_info": {
   "codemirror_mode": {
    "name": "ipython",
    "version": 3
   },
   "file_extension": ".py",
   "mimetype": "text/x-python",
   "name": "python",
   "nbconvert_exporter": "python",
   "pygments_lexer": "ipython3",
   "version": "3.12.4"
  }
 },
 "nbformat": 4,
 "nbformat_minor": 5
}
